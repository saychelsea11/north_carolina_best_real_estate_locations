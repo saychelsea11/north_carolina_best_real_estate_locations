{
  "nbformat": 4,
  "nbformat_minor": 0,
  "metadata": {
    "colab": {
      "name": "nc_housing_data_best_locations.ipynb",
      "provenance": [],
      "authorship_tag": "ABX9TyMjEbNI1fhu6qMR4sZekzFO",
      "include_colab_link": true
    },
    "kernelspec": {
      "name": "python3",
      "display_name": "Python 3"
    },
    "language_info": {
      "name": "python"
    }
  },
  "cells": [
    {
      "cell_type": "markdown",
      "metadata": {
        "id": "view-in-github",
        "colab_type": "text"
      },
      "source": [
        "<a href=\"https://colab.research.google.com/github/saychelsea11/north_carolina_best_real_estate_locations/blob/main/nc_housing_data_best_locations.ipynb\" target=\"_parent\"><img src=\"https://colab.research.google.com/assets/colab-badge.svg\" alt=\"Open In Colab\"/></a>"
      ]
    },
    {
      "cell_type": "markdown",
      "source": [
        "# 1. Goal\n",
        "\n",
        "What are the best locations in North Carolina (NC) to buy a home/condo? \n",
        "What are the best home/condo options in the selected areas? \n",
        "\n",
        "# 2. Criteria for finding best location\n",
        "\n",
        "https://www.investopedia.com/articles/mortages-real-estate/11/factors-affecting-real-estate-market.asp\n",
        "\n",
        "- Stable real-estate value appreciation\n",
        " - Look at historical housing market appreciation (10 years after 2008 crash)\n",
        "- Look at increase in population over the past 5 years\n",
        "- Look at the number of new houses in the area\n",
        "- Look at number of new companies moving into an area \n",
        "- Look at the number of universities and schools in the area\n",
        "- Look at the number of airports in the area\n",
        "- Look at the number of restaurants, bars, coffee shops, retailers in the area\n",
        "\n",
        "# 3. Criteria for finding the best home/condo? \n",
        "\n",
        "- Condo\n",
        "- Price below 500k\n",
        "- At least 2 bedrooms\n",
        "- HOA fees below $1000/month\n",
        "\n",
        "# 4. What determines the price of a house? \n",
        "\n",
        "https://www.opendoor.com/w/blog/factors-that-influence-home-value\n",
        "\n",
        "1. Neighborhood comps\n",
        "2. Location\n",
        "3. Home size and usable space\n",
        "4. Age and condition\n",
        "5. Upgrades and updates\n",
        "6. Local market\n",
        "7. Economic indicators\n",
        "8. Interest rates\n",
        "\n",
        "\n",
        "# 5. Real estate data sources\n"
      ],
      "metadata": {
        "id": "fQWInLhBBBdW"
      }
    },
    {
      "cell_type": "code",
      "execution_count": null,
      "metadata": {
        "id": "MvP81zV2ApIq"
      },
      "outputs": [],
      "source": [
        ""
      ]
    }
  ]
}